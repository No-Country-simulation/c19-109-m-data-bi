{
  "cells": [
    {
      "cell_type": "code",
      "execution_count": 87,
      "metadata": {
        "id": "9I9553685BSs"
      },
      "outputs": [],
      "source": [
        "import numpy as np\n",
        "import pandas as pd\n",
        "import matplotlib.pyplot as plt\n",
        "import datetime as dt\n",
        "import seaborn as sns\n",
        "import matplotlib as mpl"
      ]
    },
    {
      "cell_type": "code",
      "execution_count": 88,
      "metadata": {
        "id": "LCXmF6gP5MFo"
      },
      "outputs": [],
      "source": [
        "#import streamlit as st\n",
        "import gradio as gr\n"
      ]
    },
    {
      "cell_type": "code",
      "execution_count": null,
      "metadata": {
        "colab": {
          "base_uri": "https://localhost:8080/"
        },
        "id": "y_uddmgADP2J",
        "outputId": "9b7d5569-8e0f-4fbd-f7b5-28e2d7df70e1"
      },
      "outputs": [
        {
          "name": "stdout",
          "output_type": "stream",
          "text": [
            "Collecting gradio\n",
            "  Downloading gradio-4.39.0-py3-none-any.whl (12.4 MB)\n",
            "\u001b[2K     \u001b[90m━━━━━━━━━━━━━━━━━━━━━━━━━━━━━━━━━━━━━━━━\u001b[0m \u001b[32m12.4/12.4 MB\u001b[0m \u001b[31m50.3 MB/s\u001b[0m eta \u001b[36m0:00:00\u001b[0m\n",
            "\u001b[?25hCollecting aiofiles<24.0,>=22.0 (from gradio)\n",
            "  Downloading aiofiles-23.2.1-py3-none-any.whl (15 kB)\n",
            "Requirement already satisfied: anyio<5.0,>=3.0 in /usr/local/lib/python3.10/dist-packages (from gradio) (3.7.1)\n",
            "Collecting fastapi (from gradio)\n",
            "  Downloading fastapi-0.111.1-py3-none-any.whl (92 kB)\n",
            "\u001b[2K     \u001b[90m━━━━━━━━━━━━━━━━━━━━━━━━━━━━━━━━━━━━━━━━\u001b[0m \u001b[32m92.2/92.2 kB\u001b[0m \u001b[31m10.4 MB/s\u001b[0m eta \u001b[36m0:00:00\u001b[0m\n",
            "\u001b[?25hCollecting ffmpy (from gradio)\n",
            "  Downloading ffmpy-0.3.2.tar.gz (5.5 kB)\n",
            "  Preparing metadata (setup.py) ... \u001b[?25l\u001b[?25hdone\n",
            "Collecting gradio-client==1.1.1 (from gradio)\n",
            "  Downloading gradio_client-1.1.1-py3-none-any.whl (318 kB)\n",
            "\u001b[2K     \u001b[90m━━━━━━━━━━━━━━━━━━━━━━━━━━━━━━━━━━━━━━━━\u001b[0m \u001b[32m318.2/318.2 kB\u001b[0m \u001b[31m29.3 MB/s\u001b[0m eta \u001b[36m0:00:00\u001b[0m\n",
            "\u001b[?25hCollecting httpx>=0.24.1 (from gradio)\n",
            "  Downloading httpx-0.27.0-py3-none-any.whl (75 kB)\n",
            "\u001b[2K     \u001b[90m━━━━━━━━━━━━━━━━━━━━━━━━━━━━━━━━━━━━━━━━\u001b[0m \u001b[32m75.6/75.6 kB\u001b[0m \u001b[31m8.5 MB/s\u001b[0m eta \u001b[36m0:00:00\u001b[0m\n",
            "\u001b[?25hRequirement already satisfied: huggingface-hub>=0.19.3 in /usr/local/lib/python3.10/dist-packages (from gradio) (0.23.5)\n",
            "Requirement already satisfied: importlib-resources<7.0,>=1.3 in /usr/local/lib/python3.10/dist-packages (from gradio) (6.4.0)\n",
            "Requirement already satisfied: jinja2<4.0 in /usr/local/lib/python3.10/dist-packages (from gradio) (3.1.4)\n",
            "Requirement already satisfied: markupsafe~=2.0 in /usr/local/lib/python3.10/dist-packages (from gradio) (2.1.5)\n",
            "Requirement already satisfied: matplotlib~=3.0 in /usr/local/lib/python3.10/dist-packages (from gradio) (3.7.1)\n",
            "Requirement already satisfied: numpy<3.0,>=1.0 in /usr/local/lib/python3.10/dist-packages (from gradio) (1.25.2)\n",
            "Collecting orjson~=3.0 (from gradio)\n",
            "  Downloading orjson-3.10.6-cp310-cp310-manylinux_2_17_x86_64.manylinux2014_x86_64.whl (141 kB)\n",
            "\u001b[2K     \u001b[90m━━━━━━━━━━━━━━━━━━━━━━━━━━━━━━━━━━━━━━━━\u001b[0m \u001b[32m141.1/141.1 kB\u001b[0m \u001b[31m11.7 MB/s\u001b[0m eta \u001b[36m0:00:00\u001b[0m\n",
            "\u001b[?25hRequirement already satisfied: packaging in /usr/local/lib/python3.10/dist-packages (from gradio) (24.1)\n",
            "Requirement already satisfied: pandas<3.0,>=1.0 in /usr/local/lib/python3.10/dist-packages (from gradio) (2.0.3)\n",
            "Requirement already satisfied: pillow<11.0,>=8.0 in /usr/local/lib/python3.10/dist-packages (from gradio) (9.4.0)\n",
            "Requirement already satisfied: pydantic>=2.0 in /usr/local/lib/python3.10/dist-packages (from gradio) (2.8.2)\n",
            "Collecting pydub (from gradio)\n",
            "  Downloading pydub-0.25.1-py2.py3-none-any.whl (32 kB)\n",
            "Collecting python-multipart>=0.0.9 (from gradio)\n",
            "  Downloading python_multipart-0.0.9-py3-none-any.whl (22 kB)\n",
            "Requirement already satisfied: pyyaml<7.0,>=5.0 in /usr/local/lib/python3.10/dist-packages (from gradio) (6.0.1)\n",
            "Collecting ruff>=0.2.2 (from gradio)\n",
            "  Downloading ruff-0.5.4-py3-none-manylinux_2_17_x86_64.manylinux2014_x86_64.whl (10.1 MB)\n",
            "\u001b[2K     \u001b[90m━━━━━━━━━━━━━━━━━━━━━━━━━━━━━━━━━━━━━━━━\u001b[0m \u001b[32m10.1/10.1 MB\u001b[0m \u001b[31m61.2 MB/s\u001b[0m eta \u001b[36m0:00:00\u001b[0m\n",
            "\u001b[?25hCollecting semantic-version~=2.0 (from gradio)\n",
            "  Downloading semantic_version-2.10.0-py2.py3-none-any.whl (15 kB)\n",
            "Collecting tomlkit==0.12.0 (from gradio)\n",
            "  Downloading tomlkit-0.12.0-py3-none-any.whl (37 kB)\n",
            "Requirement already satisfied: typer<1.0,>=0.12 in /usr/local/lib/python3.10/dist-packages (from gradio) (0.12.3)\n",
            "Requirement already satisfied: typing-extensions~=4.0 in /usr/local/lib/python3.10/dist-packages (from gradio) (4.12.2)\n",
            "Requirement already satisfied: urllib3~=2.0 in /usr/local/lib/python3.10/dist-packages (from gradio) (2.0.7)\n",
            "Collecting uvicorn>=0.14.0 (from gradio)\n",
            "  Downloading uvicorn-0.30.3-py3-none-any.whl (62 kB)\n",
            "\u001b[2K     \u001b[90m━━━━━━━━━━━━━━━━━━━━━━━━━━━━━━━━━━━━━━━━\u001b[0m \u001b[32m62.8/62.8 kB\u001b[0m \u001b[31m7.1 MB/s\u001b[0m eta \u001b[36m0:00:00\u001b[0m\n",
            "\u001b[?25hRequirement already satisfied: fsspec in /usr/local/lib/python3.10/dist-packages (from gradio-client==1.1.1->gradio) (2023.6.0)\n",
            "Collecting websockets<12.0,>=10.0 (from gradio-client==1.1.1->gradio)\n",
            "  Downloading websockets-11.0.3-cp310-cp310-manylinux_2_5_x86_64.manylinux1_x86_64.manylinux_2_17_x86_64.manylinux2014_x86_64.whl (129 kB)\n",
            "\u001b[2K     \u001b[90m━━━━━━━━━━━━━━━━━━━━━━━━━━━━━━━━━━━━━━━━\u001b[0m \u001b[32m129.9/129.9 kB\u001b[0m \u001b[31m12.2 MB/s\u001b[0m eta \u001b[36m0:00:00\u001b[0m\n",
            "\u001b[?25hRequirement already satisfied: idna>=2.8 in /usr/local/lib/python3.10/dist-packages (from anyio<5.0,>=3.0->gradio) (3.7)\n",
            "Requirement already satisfied: sniffio>=1.1 in /usr/local/lib/python3.10/dist-packages (from anyio<5.0,>=3.0->gradio) (1.3.1)\n",
            "Requirement already satisfied: exceptiongroup in /usr/local/lib/python3.10/dist-packages (from anyio<5.0,>=3.0->gradio) (1.2.2)\n",
            "Requirement already satisfied: certifi in /usr/local/lib/python3.10/dist-packages (from httpx>=0.24.1->gradio) (2024.7.4)\n",
            "Collecting httpcore==1.* (from httpx>=0.24.1->gradio)\n",
            "  Downloading httpcore-1.0.5-py3-none-any.whl (77 kB)\n",
            "\u001b[2K     \u001b[90m━━━━━━━━━━━━━━━━━━━━━━━━━━━━━━━━━━━━━━━━\u001b[0m \u001b[32m77.9/77.9 kB\u001b[0m \u001b[31m7.8 MB/s\u001b[0m eta \u001b[36m0:00:00\u001b[0m\n",
            "\u001b[?25hCollecting h11<0.15,>=0.13 (from httpcore==1.*->httpx>=0.24.1->gradio)\n",
            "  Downloading h11-0.14.0-py3-none-any.whl (58 kB)\n",
            "\u001b[2K     \u001b[90m━━━━━━━━━━━━━━━━━━━━━━━━━━━━━━━━━━━━━━━━\u001b[0m \u001b[32m58.3/58.3 kB\u001b[0m \u001b[31m6.3 MB/s\u001b[0m eta \u001b[36m0:00:00\u001b[0m\n",
            "\u001b[?25hRequirement already satisfied: filelock in /usr/local/lib/python3.10/dist-packages (from huggingface-hub>=0.19.3->gradio) (3.15.4)\n",
            "Requirement already satisfied: requests in /usr/local/lib/python3.10/dist-packages (from huggingface-hub>=0.19.3->gradio) (2.31.0)\n",
            "Requirement already satisfied: tqdm>=4.42.1 in /usr/local/lib/python3.10/dist-packages (from huggingface-hub>=0.19.3->gradio) (4.66.4)\n",
            "Requirement already satisfied: contourpy>=1.0.1 in /usr/local/lib/python3.10/dist-packages (from matplotlib~=3.0->gradio) (1.2.1)\n",
            "Requirement already satisfied: cycler>=0.10 in /usr/local/lib/python3.10/dist-packages (from matplotlib~=3.0->gradio) (0.12.1)\n",
            "Requirement already satisfied: fonttools>=4.22.0 in /usr/local/lib/python3.10/dist-packages (from matplotlib~=3.0->gradio) (4.53.1)\n",
            "Requirement already satisfied: kiwisolver>=1.0.1 in /usr/local/lib/python3.10/dist-packages (from matplotlib~=3.0->gradio) (1.4.5)\n",
            "Requirement already satisfied: pyparsing>=2.3.1 in /usr/local/lib/python3.10/dist-packages (from matplotlib~=3.0->gradio) (3.1.2)\n",
            "Requirement already satisfied: python-dateutil>=2.7 in /usr/local/lib/python3.10/dist-packages (from matplotlib~=3.0->gradio) (2.8.2)\n",
            "Requirement already satisfied: pytz>=2020.1 in /usr/local/lib/python3.10/dist-packages (from pandas<3.0,>=1.0->gradio) (2023.4)\n",
            "Requirement already satisfied: tzdata>=2022.1 in /usr/local/lib/python3.10/dist-packages (from pandas<3.0,>=1.0->gradio) (2024.1)\n",
            "Requirement already satisfied: annotated-types>=0.4.0 in /usr/local/lib/python3.10/dist-packages (from pydantic>=2.0->gradio) (0.7.0)\n",
            "Requirement already satisfied: pydantic-core==2.20.1 in /usr/local/lib/python3.10/dist-packages (from pydantic>=2.0->gradio) (2.20.1)\n",
            "Requirement already satisfied: click>=8.0.0 in /usr/local/lib/python3.10/dist-packages (from typer<1.0,>=0.12->gradio) (8.1.7)\n",
            "Requirement already satisfied: shellingham>=1.3.0 in /usr/local/lib/python3.10/dist-packages (from typer<1.0,>=0.12->gradio) (1.5.4)\n",
            "Requirement already satisfied: rich>=10.11.0 in /usr/local/lib/python3.10/dist-packages (from typer<1.0,>=0.12->gradio) (13.7.1)\n",
            "Collecting starlette<0.38.0,>=0.37.2 (from fastapi->gradio)\n",
            "  Downloading starlette-0.37.2-py3-none-any.whl (71 kB)\n",
            "\u001b[2K     \u001b[90m━━━━━━━━━━━━━━━━━━━━━━━━━━━━━━━━━━━━━━━━\u001b[0m \u001b[32m71.9/71.9 kB\u001b[0m \u001b[31m8.2 MB/s\u001b[0m eta \u001b[36m0:00:00\u001b[0m\n",
            "\u001b[?25hCollecting fastapi-cli>=0.0.2 (from fastapi->gradio)\n",
            "  Downloading fastapi_cli-0.0.4-py3-none-any.whl (9.5 kB)\n",
            "Collecting email_validator>=2.0.0 (from fastapi->gradio)\n",
            "  Downloading email_validator-2.2.0-py3-none-any.whl (33 kB)\n",
            "Collecting dnspython>=2.0.0 (from email_validator>=2.0.0->fastapi->gradio)\n",
            "  Downloading dnspython-2.6.1-py3-none-any.whl (307 kB)\n",
            "\u001b[2K     \u001b[90m━━━━━━━━━━━━━━━━━━━━━━━━━━━━━━━━━━━━━━━━\u001b[0m \u001b[32m307.7/307.7 kB\u001b[0m \u001b[31m25.3 MB/s\u001b[0m eta \u001b[36m0:00:00\u001b[0m\n",
            "\u001b[?25hRequirement already satisfied: six>=1.5 in /usr/local/lib/python3.10/dist-packages (from python-dateutil>=2.7->matplotlib~=3.0->gradio) (1.16.0)\n",
            "Requirement already satisfied: markdown-it-py>=2.2.0 in /usr/local/lib/python3.10/dist-packages (from rich>=10.11.0->typer<1.0,>=0.12->gradio) (3.0.0)\n",
            "Requirement already satisfied: pygments<3.0.0,>=2.13.0 in /usr/local/lib/python3.10/dist-packages (from rich>=10.11.0->typer<1.0,>=0.12->gradio) (2.16.1)\n",
            "Collecting httptools>=0.5.0 (from uvicorn>=0.14.0->gradio)\n",
            "  Downloading httptools-0.6.1-cp310-cp310-manylinux_2_5_x86_64.manylinux1_x86_64.manylinux_2_17_x86_64.manylinux2014_x86_64.whl (341 kB)\n",
            "\u001b[2K     \u001b[90m━━━━━━━━━━━━━━━━━━━━━━━━━━━━━━━━━━━━━━━━\u001b[0m \u001b[32m341.4/341.4 kB\u001b[0m \u001b[31m29.4 MB/s\u001b[0m eta \u001b[36m0:00:00\u001b[0m\n",
            "\u001b[?25hCollecting python-dotenv>=0.13 (from uvicorn>=0.14.0->gradio)\n",
            "  Downloading python_dotenv-1.0.1-py3-none-any.whl (19 kB)\n",
            "Collecting uvloop!=0.15.0,!=0.15.1,>=0.14.0 (from uvicorn>=0.14.0->gradio)\n",
            "  Downloading uvloop-0.19.0-cp310-cp310-manylinux_2_17_x86_64.manylinux2014_x86_64.whl (3.4 MB)\n",
            "\u001b[2K     \u001b[90m━━━━━━━━━━━━━━━━━━━━━━━━━━━━━━━━━━━━━━━━\u001b[0m \u001b[32m3.4/3.4 MB\u001b[0m \u001b[31m51.0 MB/s\u001b[0m eta \u001b[36m0:00:00\u001b[0m\n",
            "\u001b[?25hCollecting watchfiles>=0.13 (from uvicorn>=0.14.0->gradio)\n",
            "  Downloading watchfiles-0.22.0-cp310-cp310-manylinux_2_17_x86_64.manylinux2014_x86_64.whl (1.2 MB)\n",
            "\u001b[2K     \u001b[90m━━━━━━━━━━━━━━━━━━━━━━━━━━━━━━━━━━━━━━━━\u001b[0m \u001b[32m1.2/1.2 MB\u001b[0m \u001b[31m55.3 MB/s\u001b[0m eta \u001b[36m0:00:00\u001b[0m\n",
            "\u001b[?25hRequirement already satisfied: charset-normalizer<4,>=2 in /usr/local/lib/python3.10/dist-packages (from requests->huggingface-hub>=0.19.3->gradio) (3.3.2)\n",
            "Requirement already satisfied: mdurl~=0.1 in /usr/local/lib/python3.10/dist-packages (from markdown-it-py>=2.2.0->rich>=10.11.0->typer<1.0,>=0.12->gradio) (0.1.2)\n",
            "Building wheels for collected packages: ffmpy\n",
            "  Building wheel for ffmpy (setup.py) ... \u001b[?25l\u001b[?25hdone\n",
            "  Created wheel for ffmpy: filename=ffmpy-0.3.2-py3-none-any.whl size=5584 sha256=ec2dd5e171520a55e38d6a7fe0962266c41a817eaedde899ad926400922cbefd\n",
            "  Stored in directory: /root/.cache/pip/wheels/bd/65/9a/671fc6dcde07d4418df0c592f8df512b26d7a0029c2a23dd81\n",
            "Successfully built ffmpy\n",
            "Installing collected packages: pydub, ffmpy, websockets, uvloop, tomlkit, semantic-version, ruff, python-multipart, python-dotenv, orjson, httptools, h11, dnspython, aiofiles, watchfiles, uvicorn, starlette, httpcore, email_validator, httpx, gradio-client, fastapi-cli, fastapi, gradio\n",
            "Successfully installed aiofiles-23.2.1 dnspython-2.6.1 email_validator-2.2.0 fastapi-0.111.1 fastapi-cli-0.0.4 ffmpy-0.3.2 gradio-4.39.0 gradio-client-1.1.1 h11-0.14.0 httpcore-1.0.5 httptools-0.6.1 httpx-0.27.0 orjson-3.10.6 pydub-0.25.1 python-dotenv-1.0.1 python-multipart-0.0.9 ruff-0.5.4 semantic-version-2.10.0 starlette-0.37.2 tomlkit-0.12.0 uvicorn-0.30.3 uvloop-0.19.0 watchfiles-0.22.0 websockets-11.0.3\n"
          ]
        }
      ],
      "source": [
        "!pip install gradio"
      ]
    },
    {
      "cell_type": "code",
      "execution_count": null,
      "metadata": {},
      "outputs": [],
      "source": [
        "#!pip install google.colab\n"
      ]
    },
    {
      "cell_type": "code",
      "execution_count": 89,
      "metadata": {
        "id": "3Lhcl37C5SpZ"
      },
      "outputs": [],
      "source": [
        "import pickle"
      ]
    },
    {
      "cell_type": "code",
      "execution_count": 91,
      "metadata": {},
      "outputs": [],
      "source": [
        "#from google.colab import drive\n",
        "#drive.mount('/content/drive')"
      ]
    },
    {
      "cell_type": "code",
      "execution_count": 92,
      "metadata": {
        "id": "fgY84fD9D9u_"
      },
      "outputs": [],
      "source": [
        "#path='/content/drive/MyDrive/'\n",
        "path=''\n",
        "\n"
      ]
    },
    {
      "cell_type": "code",
      "execution_count": 93,
      "metadata": {
        "colab": {
          "base_uri": "https://localhost:8080/"
        },
        "id": "GlAfNVYz3kKC",
        "outputId": "534dc5fb-8d41-4697-dbbf-439639ba2af8"
      },
      "outputs": [
        {
          "name": "stdout",
          "output_type": "stream",
          "text": [
            "LogisticRegression(max_iter=10000)\n"
          ]
        },
        {
          "name": "stderr",
          "output_type": "stream",
          "text": [
            "c:\\Users\\Usuario\\AppData\\Local\\Programs\\Python\\Python311\\Lib\\site-packages\\sklearn\\base.py:347: InconsistentVersionWarning: Trying to unpickle estimator LogisticRegression from version 1.2.2 when using version 1.3.0. This might lead to breaking code or invalid results. Use at your own risk. For more info please refer to:\n",
            "https://scikit-learn.org/stable/model_persistence.html#security-maintainability-limitations\n",
            "  warnings.warn(\n"
          ]
        }
      ],
      "source": [
        "\n",
        "#load model\n",
        "# 'https://raw.githubusercontent.com/asoler2004/nocountryc19/blob/main/hospread_logistic_regression.pickle'\n",
        "\n",
        "filename =path+'hospread_logistic_regression.pickle'\n",
        "loaded_model = pickle.load(open(filename, 'rb'))\n",
        "print(loaded_model)\n",
        "\n"
      ]
    },
    {
      "cell_type": "code",
      "execution_count": 94,
      "metadata": {
        "colab": {
          "base_uri": "https://localhost:8080/",
          "height": 226
        },
        "id": "kEYe92UdKVO8",
        "outputId": "8dc693b3-e601-4ad2-dc4a-25bfea3ecf3e"
      },
      "outputs": [
        {
          "data": {
            "text/html": [
              "<div>\n",
              "<style scoped>\n",
              "    .dataframe tbody tr th:only-of-type {\n",
              "        vertical-align: middle;\n",
              "    }\n",
              "\n",
              "    .dataframe tbody tr th {\n",
              "        vertical-align: top;\n",
              "    }\n",
              "\n",
              "    .dataframe thead th {\n",
              "        text-align: right;\n",
              "    }\n",
              "</style>\n",
              "<table border=\"1\" class=\"dataframe\">\n",
              "  <thead>\n",
              "    <tr style=\"text-align: right;\">\n",
              "      <th></th>\n",
              "      <th>admission_type_id</th>\n",
              "      <th>discharge_disposition_id</th>\n",
              "      <th>admission_source_id</th>\n",
              "      <th>time_in_hospital</th>\n",
              "      <th>num_lab_procedures</th>\n",
              "      <th>num_procedures</th>\n",
              "      <th>num_medications</th>\n",
              "      <th>number_outpatient</th>\n",
              "      <th>number_emergency</th>\n",
              "      <th>number_inpatient</th>\n",
              "    </tr>\n",
              "  </thead>\n",
              "  <tbody>\n",
              "    <tr>\n",
              "      <th>0</th>\n",
              "      <td>2.0</td>\n",
              "      <td>0.666667</td>\n",
              "      <td>1.500000</td>\n",
              "      <td>0.75</td>\n",
              "      <td>-1.038462</td>\n",
              "      <td>-0.5</td>\n",
              "      <td>0.333333</td>\n",
              "      <td>0.0</td>\n",
              "      <td>0.0</td>\n",
              "      <td>2.5</td>\n",
              "    </tr>\n",
              "    <tr>\n",
              "      <th>1</th>\n",
              "      <td>0.0</td>\n",
              "      <td>0.000000</td>\n",
              "      <td>0.000000</td>\n",
              "      <td>-0.50</td>\n",
              "      <td>-1.653846</td>\n",
              "      <td>0.5</td>\n",
              "      <td>0.111111</td>\n",
              "      <td>0.0</td>\n",
              "      <td>0.0</td>\n",
              "      <td>0.0</td>\n",
              "    </tr>\n",
              "    <tr>\n",
              "      <th>2</th>\n",
              "      <td>0.0</td>\n",
              "      <td>0.000000</td>\n",
              "      <td>0.000000</td>\n",
              "      <td>0.50</td>\n",
              "      <td>0.576923</td>\n",
              "      <td>-0.5</td>\n",
              "      <td>-0.444444</td>\n",
              "      <td>0.0</td>\n",
              "      <td>0.0</td>\n",
              "      <td>1.0</td>\n",
              "    </tr>\n",
              "    <tr>\n",
              "      <th>3</th>\n",
              "      <td>0.5</td>\n",
              "      <td>0.000000</td>\n",
              "      <td>-0.833333</td>\n",
              "      <td>0.00</td>\n",
              "      <td>0.269231</td>\n",
              "      <td>0.0</td>\n",
              "      <td>-0.444444</td>\n",
              "      <td>0.0</td>\n",
              "      <td>0.0</td>\n",
              "      <td>0.0</td>\n",
              "    </tr>\n",
              "    <tr>\n",
              "      <th>4</th>\n",
              "      <td>1.0</td>\n",
              "      <td>0.000000</td>\n",
              "      <td>-1.000000</td>\n",
              "      <td>-0.50</td>\n",
              "      <td>0.423077</td>\n",
              "      <td>-0.5</td>\n",
              "      <td>-0.444444</td>\n",
              "      <td>0.0</td>\n",
              "      <td>0.0</td>\n",
              "      <td>1.0</td>\n",
              "    </tr>\n",
              "  </tbody>\n",
              "</table>\n",
              "</div>"
            ],
            "text/plain": [
              "   admission_type_id  discharge_disposition_id  admission_source_id  \\\n",
              "0                2.0                  0.666667             1.500000   \n",
              "1                0.0                  0.000000             0.000000   \n",
              "2                0.0                  0.000000             0.000000   \n",
              "3                0.5                  0.000000            -0.833333   \n",
              "4                1.0                  0.000000            -1.000000   \n",
              "\n",
              "   time_in_hospital  num_lab_procedures  num_procedures  num_medications  \\\n",
              "0              0.75           -1.038462            -0.5         0.333333   \n",
              "1             -0.50           -1.653846             0.5         0.111111   \n",
              "2              0.50            0.576923            -0.5        -0.444444   \n",
              "3              0.00            0.269231             0.0        -0.444444   \n",
              "4             -0.50            0.423077            -0.5        -0.444444   \n",
              "\n",
              "   number_outpatient  number_emergency  number_inpatient  \n",
              "0                0.0               0.0               2.5  \n",
              "1                0.0               0.0               0.0  \n",
              "2                0.0               0.0               1.0  \n",
              "3                0.0               0.0               0.0  \n",
              "4                0.0               0.0               1.0  "
            ]
          },
          "execution_count": 94,
          "metadata": {},
          "output_type": "execute_result"
        }
      ],
      "source": [
        "# load datasets\n",
        "filename =path+'X_LR_SMOTE'+'.pickle'\n",
        "x_lr_smote = pickle.load(open(filename, 'rb'))\n",
        "x_lr_smote.head()\n",
        "\n",
        "\n"
      ]
    },
    {
      "cell_type": "code",
      "execution_count": 95,
      "metadata": {
        "colab": {
          "base_uri": "https://localhost:8080/"
        },
        "id": "PoGusfLSOrzt",
        "outputId": "2ddfbce1-15bf-4d70-c765-c74b933061e3"
      },
      "outputs": [
        {
          "data": {
            "text/plain": [
              "0    1\n",
              "1    0\n",
              "2    0\n",
              "3    0\n",
              "4    0\n",
              "Name: readmitted, dtype: int64"
            ]
          },
          "execution_count": 95,
          "metadata": {},
          "output_type": "execute_result"
        }
      ],
      "source": [
        "\n",
        "filename =path+'Y_LR_SMOTE'+'.pickle'\n",
        "y_lr_smote = pickle.load(open(filename, 'rb'))\n",
        "y_lr_smote.head()"
      ]
    },
    {
      "cell_type": "code",
      "execution_count": 96,
      "metadata": {
        "colab": {
          "base_uri": "https://localhost:8080/",
          "height": 226
        },
        "id": "Oxa-AufBOzGt",
        "outputId": "198f760c-9da1-4553-e2ba-f7a81811e527"
      },
      "outputs": [
        {
          "data": {
            "text/html": [
              "<div>\n",
              "<style scoped>\n",
              "    .dataframe tbody tr th:only-of-type {\n",
              "        vertical-align: middle;\n",
              "    }\n",
              "\n",
              "    .dataframe tbody tr th {\n",
              "        vertical-align: top;\n",
              "    }\n",
              "\n",
              "    .dataframe thead th {\n",
              "        text-align: right;\n",
              "    }\n",
              "</style>\n",
              "<table border=\"1\" class=\"dataframe\">\n",
              "  <thead>\n",
              "    <tr style=\"text-align: right;\">\n",
              "      <th></th>\n",
              "      <th>admission_type_id</th>\n",
              "      <th>discharge_disposition_id</th>\n",
              "      <th>admission_source_id</th>\n",
              "      <th>time_in_hospital</th>\n",
              "      <th>num_lab_procedures</th>\n",
              "      <th>num_procedures</th>\n",
              "      <th>num_medications</th>\n",
              "      <th>number_outpatient</th>\n",
              "      <th>number_emergency</th>\n",
              "      <th>number_inpatient</th>\n",
              "    </tr>\n",
              "  </thead>\n",
              "  <tbody>\n",
              "    <tr>\n",
              "      <th>33575</th>\n",
              "      <td>0.0</td>\n",
              "      <td>1.666667</td>\n",
              "      <td>0.0</td>\n",
              "      <td>0.00</td>\n",
              "      <td>0.000000</td>\n",
              "      <td>-0.5</td>\n",
              "      <td>1.333333</td>\n",
              "      <td>0.0</td>\n",
              "      <td>0.0</td>\n",
              "      <td>2.5</td>\n",
              "    </tr>\n",
              "    <tr>\n",
              "      <th>36442</th>\n",
              "      <td>0.5</td>\n",
              "      <td>1.666667</td>\n",
              "      <td>0.0</td>\n",
              "      <td>-0.25</td>\n",
              "      <td>-0.115385</td>\n",
              "      <td>1.0</td>\n",
              "      <td>-0.666667</td>\n",
              "      <td>0.0</td>\n",
              "      <td>0.0</td>\n",
              "      <td>1.0</td>\n",
              "    </tr>\n",
              "    <tr>\n",
              "      <th>20866</th>\n",
              "      <td>0.5</td>\n",
              "      <td>0.000000</td>\n",
              "      <td>-1.0</td>\n",
              "      <td>0.00</td>\n",
              "      <td>0.115385</td>\n",
              "      <td>-0.5</td>\n",
              "      <td>-0.666667</td>\n",
              "      <td>0.0</td>\n",
              "      <td>0.0</td>\n",
              "      <td>2.0</td>\n",
              "    </tr>\n",
              "    <tr>\n",
              "      <th>59886</th>\n",
              "      <td>0.5</td>\n",
              "      <td>1.666667</td>\n",
              "      <td>-1.0</td>\n",
              "      <td>0.25</td>\n",
              "      <td>-0.384615</td>\n",
              "      <td>2.0</td>\n",
              "      <td>0.222222</td>\n",
              "      <td>0.0</td>\n",
              "      <td>0.0</td>\n",
              "      <td>2.5</td>\n",
              "    </tr>\n",
              "    <tr>\n",
              "      <th>32402</th>\n",
              "      <td>0.0</td>\n",
              "      <td>0.000000</td>\n",
              "      <td>1.5</td>\n",
              "      <td>-0.25</td>\n",
              "      <td>-1.038462</td>\n",
              "      <td>0.5</td>\n",
              "      <td>0.111111</td>\n",
              "      <td>0.0</td>\n",
              "      <td>0.0</td>\n",
              "      <td>0.0</td>\n",
              "    </tr>\n",
              "  </tbody>\n",
              "</table>\n",
              "</div>"
            ],
            "text/plain": [
              "       admission_type_id  discharge_disposition_id  admission_source_id  \\\n",
              "33575                0.0                  1.666667                  0.0   \n",
              "36442                0.5                  1.666667                  0.0   \n",
              "20866                0.5                  0.000000                 -1.0   \n",
              "59886                0.5                  1.666667                 -1.0   \n",
              "32402                0.0                  0.000000                  1.5   \n",
              "\n",
              "       time_in_hospital  num_lab_procedures  num_procedures  num_medications  \\\n",
              "33575              0.00            0.000000            -0.5         1.333333   \n",
              "36442             -0.25           -0.115385             1.0        -0.666667   \n",
              "20866              0.00            0.115385            -0.5        -0.666667   \n",
              "59886              0.25           -0.384615             2.0         0.222222   \n",
              "32402             -0.25           -1.038462             0.5         0.111111   \n",
              "\n",
              "       number_outpatient  number_emergency  number_inpatient  \n",
              "33575                0.0               0.0               2.5  \n",
              "36442                0.0               0.0               1.0  \n",
              "20866                0.0               0.0               2.0  \n",
              "59886                0.0               0.0               2.5  \n",
              "32402                0.0               0.0               0.0  "
            ]
          },
          "execution_count": 96,
          "metadata": {},
          "output_type": "execute_result"
        }
      ],
      "source": [
        "\n",
        "filename =path+'X_LR_TEST'+'.pickle'\n",
        "x_lr_test = pickle.load(open(filename, 'rb'))\n",
        "x_lr_test.head()"
      ]
    },
    {
      "cell_type": "code",
      "execution_count": 97,
      "metadata": {
        "colab": {
          "base_uri": "https://localhost:8080/"
        },
        "id": "TZ-YPVv5ekJV",
        "outputId": "96460ed7-1311-48d4-8a0c-962bb1b02337"
      },
      "outputs": [
        {
          "data": {
            "text/plain": [
              "Index(['admission_type_id', 'discharge_disposition_id', 'admission_source_id',\n",
              "       'time_in_hospital', 'num_lab_procedures', 'num_procedures',\n",
              "       'num_medications', 'number_outpatient', 'number_emergency',\n",
              "       'number_inpatient'],\n",
              "      dtype='object')"
            ]
          },
          "execution_count": 97,
          "metadata": {},
          "output_type": "execute_result"
        }
      ],
      "source": [
        "x_lr_test.columns"
      ]
    },
    {
      "cell_type": "markdown",
      "metadata": {
        "id": "ZQaws9ipe0jB"
      },
      "source": []
    },
    {
      "cell_type": "code",
      "execution_count": 98,
      "metadata": {
        "colab": {
          "base_uri": "https://localhost:8080/"
        },
        "id": "E3WpiVZIPB7M",
        "outputId": "d67ad38e-b450-424c-cb15-91e825556bed"
      },
      "outputs": [
        {
          "data": {
            "text/plain": [
              "33575    0\n",
              "36442    0\n",
              "20866    0\n",
              "59886    0\n",
              "32402    0\n",
              "Name: readmitted, dtype: int64"
            ]
          },
          "execution_count": 98,
          "metadata": {},
          "output_type": "execute_result"
        }
      ],
      "source": [
        "\n",
        "filename =path+'Y_LR_TEST'+'.pickle'\n",
        "y_lr_test = pickle.load(open(filename, 'rb'))\n",
        "y_lr_test.head()"
      ]
    },
    {
      "cell_type": "code",
      "execution_count": 99,
      "metadata": {
        "colab": {
          "base_uri": "https://localhost:8080/"
        },
        "id": "QfqM7pmxbY9-",
        "outputId": "758d934a-1923-47d1-a821-9675d179215f"
      },
      "outputs": [
        {
          "data": {
            "text/plain": [
              "{'upper_limit_admission_type_id': 6.0,\n",
              " 'lower_limit_admission_type_id': -2.0,\n",
              " 'upper_limit_discharge_disposition_id': 8.5,\n",
              " 'lower_limit_discharge_disposition_id': -3.5,\n",
              " 'upper_limit_admission_source_id': 16.0,\n",
              " 'lower_limit_admission_source_id': -8.0,\n",
              " 'upper_limit_time_in_hospital': 12.0,\n",
              " 'lower_limit_time_in_hospital': -4.0,\n",
              " 'upper_limit_num_lab_procedures': 96.0,\n",
              " 'lower_limit_num_lab_procedures': -8.0,\n",
              " 'upper_limit_num_procedures': 5.0,\n",
              " 'lower_limit_num_procedures': -3.0,\n",
              " 'upper_limit_num_medications': 33.5,\n",
              " 'lower_limit_num_medications': -2.5,\n",
              " 'upper_limit_number_outpatient': 0.0,\n",
              " 'lower_limit_number_outpatient': 0.0,\n",
              " 'upper_limit_number_emergency': 0.0,\n",
              " 'lower_limit_number_emergency': 0.0,\n",
              " 'upper_limit_number_inpatient': 2.5,\n",
              " 'lower_limit_number_inpatient': -1.5,\n",
              " 'upper_limit_number_diagnoses': 13.5,\n",
              " 'lower_limit_number_diagnoses': 1.5}"
            ]
          },
          "execution_count": 99,
          "metadata": {},
          "output_type": "execute_result"
        }
      ],
      "source": [
        "filename =path+'diccionario_BOUNDS'+'.pickle'\n",
        "diccionario = pickle.load(open(filename, 'rb'))\n",
        "diccionario"
      ]
    },
    {
      "cell_type": "code",
      "execution_count": 100,
      "metadata": {},
      "outputs": [],
      "source": [
        "#load app's logo\n",
        "Logo =path+'Logo HospRead.jpg'"
      ]
    },
    {
      "cell_type": "code",
      "execution_count": null,
      "metadata": {
        "id": "Flemi46djNEP"
      },
      "outputs": [],
      "source": [
        "#def user_greeting(name):\n",
        "#  if name in ['Juan','Flor','Santiago','Antonia','Kevin']:\n",
        "#    return \"Hi \" + name + \"! - Welcome to the Hospital Readmission Predictor!\"\n",
        "#  else:\n",
        "#    return \"Unauthorized user\"\n",
        "\n",
        "#define gradio interface and other parameters\n",
        "#app1visible=True\n",
        "#app2visible=False\n",
        "#app1 =  gr.Interface(fn = user_greeting, inputs=\"text\", outputs=\"text\")\n",
        "\n",
        "\n",
        "def user_greeting(name):\n",
        "  if name in ['Juan','Flor','Santiago','Antonia','Kevin']:\n",
        "    return Logo, \"Hi \" + name + \"! - Welcome to the Hospital Readmission Predictor!\"\n",
        "  else:\n",
        "    return Logo,\"Unauthorized user\"\n",
        "\n",
        "#define gradio interface and other parameters\n",
        "app1visible=True\n",
        "app2visible=False\n",
        "app1 =  gr.Interface(fn = user_greeting, inputs=\"text\", outputs=[\"image\",\"text\"])\n"
      ]
    },
    {
      "cell_type": "code",
      "execution_count": 102,
      "metadata": {
        "colab": {
          "base_uri": "https://localhost:8080/",
          "height": 646
        },
        "id": "9PgaN7zVzUww",
        "outputId": "7da5c04b-e651-4d28-b5e0-6fcbbd91feea"
      },
      "outputs": [],
      "source": [
        "#app1.launch()\n"
      ]
    },
    {
      "cell_type": "code",
      "execution_count": 109,
      "metadata": {},
      "outputs": [],
      "source": [
        "#ID mappings for the diabetes dataset\t \n",
        "\n",
        "#Admission type: Nominal Integer identifier corresponding to 8 distinct values \n",
        "\n",
        "admission_type_id_mapping= {\n",
        "    1:\"Emergency\",\n",
        "    2:\"Urgent\",\n",
        "    3:\"Elective\",\n",
        "    4:\"Newborn\",\n",
        "    5:\"Not Available\",\n",
        "    6:\"NULL\",\n",
        "    7:\"Trauma Center\",\n",
        "    8:\"Not Mapped\",\n",
        "}\n",
        "\n",
        "#Discharge disposition: Nominal Integer identifier corresponding to 29 distinct values\n",
        "\n",
        "discharge_disposition_id_mapping={\n",
        "    1:\"Discharged to home\",\n",
        "    2:\"Discharged/transferred to another short term hospital\",\n",
        "    3:\"Discharged/transferred to SNF\",\n",
        "    4:\"Discharged/transferred to ICF\",\n",
        "    5:\"Discharged/transferred to another type of inpatient care institution\",\n",
        "    6:\"Discharged/transferred to home with home health service\",\n",
        "    7:\"Left AMA\",\n",
        "    8:\"Discharged/transferred to home under care of Home IV provider\",\n",
        "    9:\"Admitted as an inpatient to this hospital\",\n",
        "    10:\"Neonate discharged to another hospital for neonatal aftercare\",\n",
        "    11:\"Expired\",\n",
        "    12:\"Still patient or expected to return for outpatient services\",\n",
        "    13:\"Hospice / home\",\n",
        "    14:\"Hospice / medical facility\",\n",
        "    15:\"Discharged/transferred within this institution to Medicare approved swing bed\",\n",
        "    16:\"Discharged/transferred/referred another institution for outpatient services\",\n",
        "    17:\"Discharged/transferred/referred to this institution for outpatient services\",\n",
        "    18:\"NULL\",\n",
        "    19:\"Expired at home. Medicaid only, hospice.\",\n",
        "    20:\"Expired in a medical facility. Medicaid only, hospice.\",\n",
        "    21:\"Expired, place unknown. Medicaid only, hospice.\",\n",
        "    22:\"Discharged/transferred to another rehab fac including rehab units of a hospital .\",\n",
        "    23:\"Discharged/transferred to a long term care hospital.\",\n",
        "    24:\"Discharged/transferred to a nursing facility certified under Medicaid but not certified under Medicare.\",\n",
        "    25:\"Not Mapped\",\n",
        "    26:\"Unknown/Invalid\",\n",
        "    30:\"Discharged/transferred to another Type of Health Care Institution not Defined Elsewhere\",\n",
        "    27:\"Discharged/transferred to a federal health care facility.\",\n",
        "    28:\"Discharged/transferred/referred to a psychiatric hospital of psychiatric distinct part unit of a hospital\",\n",
        "    29:\"Discharged/transferred to a Critical Access Hospital (CAH)\",\n",
        "}\n",
        "\n",
        "#Admission source: Nominal Integer identifier corresponding to 21 distinct values\n",
        "\n",
        "admission_source_id_mapping = {\n",
        "    1:\"\tPhysician Referral\",\n",
        "    2:\"\tClinic Referral\",\n",
        "    3:\"HMO Referral\",\n",
        "    4:\"Transfer from a hospital\",\n",
        "    5:\"Transfer from a Skilled Nursing Facility (SNF)\",\n",
        "    6:\"Transfer from another health care facility\",\n",
        "    7:\"Emergency Room\",\n",
        "    8:\"Court/Law Enforcement\",\n",
        "    9:\"Not Available\",\n",
        "    10:\"Transfer from critial access hospital\",\n",
        "    11:\"Normal Delivery\",\n",
        "    12:\"Premature Delivery\",\n",
        "    13:\"Sick Baby\",\n",
        "    14:\"Extramural Birth\",\n",
        "    15:\"Not Available\",\n",
        "    17:\"NULL\",\n",
        "    18:\"Transfer From Another Home Health Agency\",\n",
        "    19:\"Readmission to Same Home Health Agency\",\n",
        "    20:\"Not Mapped\",\n",
        "    21:\"Unknown/Invalid\",\n",
        "    22:\"Transfer from hospital inpt/same fac reslt in a sep claim\",\n",
        "    23:\"Born inside this hospital\",\n",
        "    24:\"Born outside this hospital\",\n",
        "    25:\"Transfer from Ambulatory Surgery Center\",\n",
        "    26:\"Transfer from Hospice\",\n",
        "}\n",
        "\n",
        "#Time in hospital: Number of days between admission and discharge \n",
        "#Number of lab procedures: Number of lab tests performed during the encounter\n",
        "#Number of procedures: Number of procedures (other than lab tests) performed during the encounter \n",
        "#Number of medications: Number of distinct generic names administered during the encounter\n",
        "#Number of outpatient visits: Number of outpatient visits of the patient in the year preceding the encounter\n",
        "#Number of emergency visits: Number of emergency visits of the patient in the year preceding the encounter\n",
        "#Number of inpatient visits: Number of inpatient visits of the patient in the year preceding the encounter"
      ]
    },
    {
      "cell_type": "code",
      "execution_count": 42,
      "metadata": {
        "id": "l37z8SQfbsrm"
      },
      "outputs": [],
      "source": [
        "\"\"\"\n",
        "def user_input_features(admission_source_id,\n",
        "                        admission_type_id,\n",
        "                        discharge_disposition_id,\n",
        "                        time_in_hospital,\n",
        "                        num_lab_procedures,\n",
        "                        num_procedures,\n",
        "                        num_medications,\n",
        "                        number_outpatient,\n",
        "                        number_emergency,\n",
        "                        number_inpatient):\n",
        "\n",
        "\n",
        "\n",
        "  data=[admission_type_id,\n",
        "        discharge_disposition_id,\n",
        "        admission_source_id,\n",
        "        time_in_hospital,\n",
        "        num_lab_procedures,\n",
        "        num_procedures,\n",
        "        num_medications,\n",
        "        number_outpatient,\n",
        "        number_emergency,\n",
        "        number_inpatient ]\n",
        "  current_prediction = loaded_model.predict([data])\n",
        "\n",
        "  if current_prediction[0]==0:\n",
        "    result =\" NO \"\n",
        "  else:\n",
        "    result = \" SI \"\n",
        "\n",
        "  return \"El modelo predice que si el paciente es dado de alta en este momento, es probable que \"+result+\" sea readmitido antes de los 30 días\"\n",
        "\"\"\"\n"
      ]
    },
    {
      "cell_type": "code",
      "execution_count": 106,
      "metadata": {},
      "outputs": [],
      "source": [
        "def user_input_features(admission_source_id,\n",
        "                        admission_type_id,\n",
        "                        discharge_disposition_id,\n",
        "                        time_in_hospital,\n",
        "                        num_lab_procedures,\n",
        "                        num_procedures,\n",
        "                        num_medications,\n",
        "                        number_outpatient,\n",
        "                        number_emergency,\n",
        "                        number_inpatient):\n",
        "\n",
        "\n",
        "\n",
        "  data=[admission_type_id,\n",
        "        discharge_disposition_id,\n",
        "        admission_source_id,\n",
        "        time_in_hospital,\n",
        "        num_lab_procedures,\n",
        "        num_procedures,\n",
        "        num_medications,\n",
        "        number_outpatient,\n",
        "        number_emergency,\n",
        "        number_inpatient ]\n",
        "      \n",
        "    \n",
        "  df = pd.DataFrame(data).T\n",
        "  df.columns =x_lr_test.columns\n",
        "\n",
        "\n",
        "  current_prediction = loaded_model.predict(df)\n",
        "  if current_prediction[0]==0:\n",
        "    result =\" LOW \"\n",
        "    result_SP= \" BAJA \"\n",
        "  else:\n",
        "    result = \" HIGH \"\n",
        "    result_SP= \" ALTA \"\n",
        "  \n",
        "  text_to_display=  \"The patient was admitted as : \"+str(admission_type_id_mapping[admission_type_id])+\"\\n\"\n",
        "  text_to_display+= \"The patient was admitted from : \"+str(admission_source_id_mapping[admission_source_id])+\"\\n\"\n",
        "  text_to_display+= \"The patient was discharged as : \"+str(discharge_disposition_id_mapping[discharge_disposition_id])+\"\\n\"\n",
        "  text_to_display+= \"The patient spent : \"+str(time_in_hospital)+\" days in the hospital\\n\"\n",
        "  text_to_display+= \"The patient had : \"+str(num_lab_procedures)+\" lab procedures\\n\"\n",
        "  text_to_display+= \"            and \"+str(num_procedures)+\" other procedures\\n\"\n",
        "  text_to_display+= \"            and received \"+str(num_medications)+\" different medications\\n\"\n",
        "  text_to_display+= \"            during the stay in the hospital.\\n\"\n",
        "  text_to_display+=\"The patient had \"+str(number_outpatient)+\" outpatient visits in the last year\\n\"\n",
        "  text_to_display+=\"The patient had \"+str(number_emergency)+\" emergency visits in the last year\\n\"\n",
        "  text_to_display+=\"The patient had \"+str(number_inpatient)+\" inpatient visits in the last year.\\n\\n\"\n",
        "  text_to_display+=\"The model's prediction is that this patient's probability \\n\"\n",
        "  text_to_display+=\"of being readmitted in the hospital in the next 30 days is \\n\"\n",
        "  text_to_display+=\"*********************\"+result+\"************************\"\n",
        "  \"\"\"\n",
        "  text_to_display_sp=  \"El paciente fue admitido como : \"+str(admission_type_id_mapping[admission_type_id])+\"\\n\"\n",
        "  text_to_display_sp+= \"El paciente fue admitido desde : \"+str(admission_source_id_mapping[admission_source_id])+\"\\n\"\n",
        "  text_to_display_sp+= \"El paciente fue dado de alta por : \"+str(discharge_disposition_id_mapping[discharge_disposition_id])+\"\\n\"\n",
        "  text_to_display_sp+= \"El paciente permanecio : \"+str(time_in_hospital)+\" dias en el hospital\\n\"\n",
        "  text_to_display_sp+= \"El paciente tuvo : \"+str(num_lab_procedures)+\" estudios de laboratorio\\n\"\n",
        "  text_to_display_sp+= \"            y \"+str(num_procedures)+\" otros procedimientos\\n\"\n",
        "  text_to_display_sp+= \"            y recibio \"+str(num_medications)+\" diferentes medicaciones\\n\"\n",
        "  text_to_display_sp+= \"            durante su estadia en el hospital.\\n\"\n",
        "  text_to_display_sp+=\"El paciente hizo \"+str(number_outpatient)+\" consultas ambulatorias en el último año\\n\"\n",
        "  text_to_display_sp+=\"          y tuvo \"+str(number_emergency)+\" ingresos de emergencia en el último año\\n\"\n",
        "  text_to_display_sp+=\"               y \"+str(number_inpatient)+\" internaciones en el último año.\\n\\n\"\n",
        "  text_to_display_sp+=\"El modelo predice que la probabilidad de que este paciente \\n\"\n",
        "  text_to_display_sp+=\"sea readmitido en el hospital en los próximos 30 días es \\n\"\n",
        "  text_to_display_sp+=\"*********************\"+result_SP+\"************************\"\n",
        "  \"\"\"\n",
        "  \n",
        "                    \n",
        "  \n",
        "                \n",
        "\n",
        "  \n",
        "  return Logo, text_to_display"
      ]
    },
    {
      "cell_type": "markdown",
      "metadata": {},
      "source": []
    },
    {
      "cell_type": "code",
      "execution_count": 111,
      "metadata": {},
      "outputs": [
        {
          "name": "stderr",
          "output_type": "stream",
          "text": [
            "c:\\Users\\Usuario\\AppData\\Local\\Programs\\Python\\Python311\\Lib\\site-packages\\gradio\\components\\dropdown.py:188: UserWarning: The value passed into gr.Dropdown() is not in the list of choices. Please update the list of choices to include: 1 or set allow_custom_value=True.\n",
            "  warnings.warn(\n"
          ]
        }
      ],
      "source": [
        "\n",
        "\n",
        "\n",
        "admission_source_id= gr.Dropdown(admission_source_id_mapping.values(),label = 'ADMISSION SOURCE',value=1,type='index')\n",
        "#admission_source_id= gr.Slider(diccionario['lower_limit_admission_source_id'], diccionario['upper_limit_admission_source_id'], value=diccionario['lower_limit_admission_source_id'], label = 'ADMISSION SOURCE')\n",
        "admission_type_id= gr.Dropdown(admission_type_id_mapping.values(),label = 'ADMISSION TYPE',value=1,type='index')\n",
        "#admission_type_id= gr.Slider(diccionario['lower_limit_admission_type_id'], diccionario['upper_limit_admission_type_id'], value=diccionario['lower_limit_admission_type_id'], label = 'ADMISSION TYPE')\n",
        "discharge_disposition_id= gr.Dropdown(discharge_disposition_id_mapping.values(), label = 'DISCHARGE DISPOSITION',value=1,type='index')\n",
        "#discharge_disposition_id= gr.Slider(diccionario['lower_limit_discharge_disposition_id'], diccionario['upper_limit_discharge_disposition_id'], value=diccionario['lower_limit_discharge_disposition_id'], label = 'DISCHARGE DISPOSITION')\n",
        "\n",
        "time_in_hospital = gr.Slider(diccionario['lower_limit_time_in_hospital'], diccionario['upper_limit_time_in_hospital'], value=diccionario['lower_limit_time_in_hospital'], label = 'TIME IN HOSPITAL (DAYS)')\n",
        "num_lab_procedures= gr.Slider(diccionario['lower_limit_num_lab_procedures'], diccionario['upper_limit_num_lab_procedures'], value=diccionario['lower_limit_num_lab_procedures'], label = 'NUMBER OF LAB PROCEDURES')\n",
        "num_procedures= gr.Slider(diccionario['lower_limit_num_procedures'], diccionario['upper_limit_num_procedures'], value=diccionario['lower_limit_num_procedures'], label = 'NUMBER OF OTHER PROCEDURES')\n",
        "num_medications= gr.Slider(diccionario['lower_limit_num_medications'], diccionario['upper_limit_num_medications'], value=diccionario['lower_limit_num_medications'], label = 'NUMBER OF MEDICATIONS')\n",
        "number_outpatient= gr.Slider(diccionario['lower_limit_number_outpatient'], diccionario['upper_limit_number_outpatient']+100, value=diccionario['lower_limit_number_outpatient'], label = 'NUMBER OF OUTPATIENT VISITS IN LAST YEAR')\n",
        "number_emergency = gr.Slider(diccionario['lower_limit_number_emergency'], diccionario['upper_limit_number_emergency']+100, value=diccionario['lower_limit_number_emergency'], label = 'NUMBER OF EMERGENCY VISITS IN LAST YEAR')\n",
        "number_inpatient= gr.Slider(diccionario['lower_limit_number_inpatient'], diccionario['upper_limit_number_inpatient'], value=diccionario['lower_limit_number_inpatient'], label = 'NUMBER OF INPATIENT VISITS IN LAST YEAR')\n",
        "\n",
        "\n",
        "app2 = gr.Interface(fn=user_input_features,inputs= [admission_source_id,\n",
        "                                                    admission_type_id,\n",
        "                                                    discharge_disposition_id,\n",
        "                                                    time_in_hospital,\n",
        "                                                    num_lab_procedures,\n",
        "                                                    num_procedures,\n",
        "                                                    num_medications,\n",
        "                                                    number_outpatient,\n",
        "                                                    number_emergency,\n",
        "                                                    number_inpatient\n",
        "                                                    ]\n",
        "                    ,outputs=[\"image\",\"text\"])"
      ]
    },
    {
      "cell_type": "code",
      "execution_count": 112,
      "metadata": {
        "colab": {
          "base_uri": "https://localhost:8080/",
          "height": 750
        },
        "id": "QOmg4SYSzoXm",
        "outputId": "f23f3652-183a-4fbc-9228-a92e69c1af78"
      },
      "outputs": [
        {
          "name": "stdout",
          "output_type": "stream",
          "text": [
            "Running on local URL:  http://127.0.0.1:7861\n",
            "\n",
            "Could not create share link. Please check your internet connection or our status page: https://status.gradio.app.\n"
          ]
        },
        {
          "data": {
            "text/html": [
              "<div><iframe src=\"http://127.0.0.1:7861/\" width=\"100%\" height=\"500\" allow=\"autoplay; camera; microphone; clipboard-read; clipboard-write;\" frameborder=\"0\" allowfullscreen></iframe></div>"
            ],
            "text/plain": [
              "<IPython.core.display.HTML object>"
            ]
          },
          "metadata": {},
          "output_type": "display_data"
        },
        {
          "name": "stdout",
          "output_type": "stream",
          "text": [
            "Keyboard interruption in main thread... closing server.\n"
          ]
        },
        {
          "data": {
            "text/plain": []
          },
          "execution_count": 112,
          "metadata": {},
          "output_type": "execute_result"
        }
      ],
      "source": [
        "app2.launch(share= True, debug=True)"
      ]
    },
    {
      "cell_type": "code",
      "execution_count": null,
      "metadata": {
        "colab": {
          "base_uri": "https://localhost:8080/"
        },
        "id": "24-vaHCp49OZ",
        "outputId": "6446aaca-2046-4565-bc49-32a9a35ab619"
      },
      "outputs": [
        {
          "data": {
            "text/plain": [
              "1.5"
            ]
          },
          "execution_count": 107,
          "metadata": {},
          "output_type": "execute_result"
        }
      ],
      "source": [
        "number_diagnoses.value"
      ]
    },
    {
      "cell_type": "code",
      "execution_count": null,
      "metadata": {
        "colab": {
          "base_uri": "https://localhost:8080/"
        },
        "id": "4AsWDaA28odv",
        "outputId": "ee6d19bd-ea4d-4903-f5d6-d85bd3ca0be7"
      },
      "outputs": [
        {
          "name": "stderr",
          "output_type": "stream",
          "text": [
            "/usr/local/lib/python3.10/dist-packages/sklearn/base.py:439: UserWarning: X does not have valid feature names, but LogisticRegression was fitted with feature names\n",
            "  warnings.warn(\n"
          ]
        }
      ],
      "source": [
        "current_prediction = loaded_model.predict([[admission_source_id.value,\n",
        "                        admission_type_id.value,\n",
        "                        discharge_disposition_id.value,\n",
        "                        time_in_hospital.value,\n",
        "                        num_lab_procedures.value,\n",
        "                        num_procedures.value,\n",
        "                        num_medications.value,\n",
        "                        0,\n",
        "                        0,\n",
        "                        number_inpatient.value,\n",
        "                        #number_diagnoses.value\n",
        "                                             ]])"
      ]
    },
    {
      "cell_type": "code",
      "execution_count": null,
      "metadata": {
        "colab": {
          "base_uri": "https://localhost:8080/"
        },
        "id": "VzHGTMdd9vCA",
        "outputId": "bfbe857d-e78c-4e78-e730-ef6b3353efd3"
      },
      "outputs": [
        {
          "data": {
            "text/plain": [
              "0"
            ]
          },
          "execution_count": 87,
          "metadata": {},
          "output_type": "execute_result"
        }
      ],
      "source": [
        "current_prediction[0]"
      ]
    },
    {
      "cell_type": "code",
      "execution_count": null,
      "metadata": {
        "id": "5Drq-8bR_3Wl"
      },
      "outputs": [],
      "source": [
        "if current_prediction[0]==0:\n",
        "    result =\" NO \"\n",
        "else:\n",
        "    result = \" SI \""
      ]
    },
    {
      "cell_type": "code",
      "execution_count": null,
      "metadata": {
        "colab": {
          "base_uri": "https://localhost:8080/",
          "height": 35
        },
        "id": "itoCKJTTAFDs",
        "outputId": "4384f569-b5bc-405a-9fa7-e3a5a02f3495"
      },
      "outputs": [
        {
          "data": {
            "application/vnd.google.colaboratory.intrinsic+json": {
              "type": "string"
            },
            "text/plain": [
              "' NO '"
            ]
          },
          "execution_count": 104,
          "metadata": {},
          "output_type": "execute_result"
        }
      ],
      "source": [
        "result"
      ]
    },
    {
      "cell_type": "code",
      "execution_count": null,
      "metadata": {
        "id": "ky61Fm4f0z48"
      },
      "outputs": [],
      "source": [
        "demo = gr.TabbedInterface([app1, app2], [\"Login page\", \"Visualization page\"])\n"
      ]
    },
    {
      "cell_type": "code",
      "execution_count": null,
      "metadata": {
        "colab": {
          "base_uri": "https://localhost:8080/",
          "height": 646
        },
        "id": "UT22ru1-05ng",
        "outputId": "78fd2f7d-220d-464e-a0c6-9b101f87478d"
      },
      "outputs": [
        {
          "name": "stdout",
          "output_type": "stream",
          "text": [
            "Setting queue=True in a Colab notebook requires sharing enabled. Setting `share=True` (you can turn this off by setting `share=False` in `launch()` explicitly).\n",
            "\n",
            "Colab notebook detected. To show errors in colab notebook, set debug=True in launch()\n",
            "Running on public URL: https://d1399cee27c790d6a9.gradio.live\n",
            "\n",
            "This share link expires in 72 hours. For free permanent hosting and GPU upgrades, run `gradio deploy` from Terminal to deploy to Spaces (https://huggingface.co/spaces)\n"
          ]
        },
        {
          "data": {
            "text/html": [
              "<div><iframe src=\"https://d1399cee27c790d6a9.gradio.live\" width=\"100%\" height=\"500\" allow=\"autoplay; camera; microphone; clipboard-read; clipboard-write;\" frameborder=\"0\" allowfullscreen></iframe></div>"
            ],
            "text/plain": [
              "<IPython.core.display.HTML object>"
            ]
          },
          "metadata": {},
          "output_type": "display_data"
        },
        {
          "data": {
            "text/plain": []
          },
          "execution_count": 46,
          "metadata": {},
          "output_type": "execute_result"
        }
      ],
      "source": [
        "demo.launch()"
      ]
    },
    {
      "cell_type": "code",
      "execution_count": null,
      "metadata": {
        "colab": {
          "base_uri": "https://localhost:8080/"
        },
        "id": "-s5xP_Nh8PCI",
        "outputId": "3312fcb5-9563-4800-8757-048c909a5fb1"
      },
      "outputs": [
        {
          "name": "stdout",
          "output_type": "stream",
          "text": [
            "[1 0 0 1 0 0 1 1 0 0]\n"
          ]
        }
      ],
      "source": [
        "#st.write(loaded_model)\n",
        "result= loaded_model.predict(x_lr_test[0:10])\n",
        "\n",
        "print(result)"
      ]
    },
    {
      "cell_type": "code",
      "execution_count": null,
      "metadata": {
        "colab": {
          "base_uri": "https://localhost:8080/"
        },
        "id": "0nImW_hHTbFH",
        "outputId": "710c689e-66ae-47e5-b1e7-8bdd1fbc2ffd"
      },
      "outputs": [
        {
          "name": "stdout",
          "output_type": "stream",
          "text": [
            "Collecting gradio\n",
            "  Downloading gradio-4.39.0-py3-none-any.whl (12.4 MB)\n",
            "\u001b[2K     \u001b[90m━━━━━━━━━━━━━━━━━━━━━━━━━━━━━━━━━━━━━━━━\u001b[0m \u001b[32m12.4/12.4 MB\u001b[0m \u001b[31m30.1 MB/s\u001b[0m eta \u001b[36m0:00:00\u001b[0m\n",
            "\u001b[?25hCollecting aiofiles<24.0,>=22.0 (from gradio)\n",
            "  Downloading aiofiles-23.2.1-py3-none-any.whl (15 kB)\n",
            "Requirement already satisfied: anyio<5.0,>=3.0 in /usr/local/lib/python3.10/dist-packages (from gradio) (3.7.1)\n",
            "Collecting fastapi (from gradio)\n",
            "  Downloading fastapi-0.111.1-py3-none-any.whl (92 kB)\n",
            "\u001b[2K     \u001b[90m━━━━━━━━━━━━━━━━━━━━━━━━━━━━━━━━━━━━━━━━\u001b[0m \u001b[32m92.2/92.2 kB\u001b[0m \u001b[31m11.8 MB/s\u001b[0m eta \u001b[36m0:00:00\u001b[0m\n",
            "\u001b[?25hCollecting ffmpy (from gradio)\n",
            "  Downloading ffmpy-0.3.2.tar.gz (5.5 kB)\n",
            "  Preparing metadata (setup.py) ... \u001b[?25l\u001b[?25hdone\n",
            "Collecting gradio-client==1.1.1 (from gradio)\n",
            "  Downloading gradio_client-1.1.1-py3-none-any.whl (318 kB)\n",
            "\u001b[2K     \u001b[90m━━━━━━━━━━━━━━━━━━━━━━━━━━━━━━━━━━━━━━━━\u001b[0m \u001b[32m318.2/318.2 kB\u001b[0m \u001b[31m29.6 MB/s\u001b[0m eta \u001b[36m0:00:00\u001b[0m\n",
            "\u001b[?25hCollecting httpx>=0.24.1 (from gradio)\n",
            "  Downloading httpx-0.27.0-py3-none-any.whl (75 kB)\n",
            "\u001b[2K     \u001b[90m━━━━━━━━━━━━━━━━━━━━━━━━━━━━━━━━━━━━━━━━\u001b[0m \u001b[32m75.6/75.6 kB\u001b[0m \u001b[31m11.0 MB/s\u001b[0m eta \u001b[36m0:00:00\u001b[0m\n",
            "\u001b[?25hRequirement already satisfied: huggingface-hub>=0.19.3 in /usr/local/lib/python3.10/dist-packages (from gradio) (0.23.5)\n",
            "Requirement already satisfied: importlib-resources<7.0,>=1.3 in /usr/local/lib/python3.10/dist-packages (from gradio) (6.4.0)\n",
            "Requirement already satisfied: jinja2<4.0 in /usr/local/lib/python3.10/dist-packages (from gradio) (3.1.4)\n",
            "Requirement already satisfied: markupsafe~=2.0 in /usr/local/lib/python3.10/dist-packages (from gradio) (2.1.5)\n",
            "Requirement already satisfied: matplotlib~=3.0 in /usr/local/lib/python3.10/dist-packages (from gradio) (3.7.1)\n",
            "Requirement already satisfied: numpy<3.0,>=1.0 in /usr/local/lib/python3.10/dist-packages (from gradio) (1.25.2)\n",
            "Collecting orjson~=3.0 (from gradio)\n",
            "  Downloading orjson-3.10.6-cp310-cp310-manylinux_2_17_x86_64.manylinux2014_x86_64.whl (141 kB)\n",
            "\u001b[2K     \u001b[90m━━━━━━━━━━━━━━━━━━━━━━━━━━━━━━━━━━━━━━━━\u001b[0m \u001b[32m141.1/141.1 kB\u001b[0m \u001b[31m17.9 MB/s\u001b[0m eta \u001b[36m0:00:00\u001b[0m\n",
            "\u001b[?25hRequirement already satisfied: packaging in /usr/local/lib/python3.10/dist-packages (from gradio) (24.1)\n",
            "Requirement already satisfied: pandas<3.0,>=1.0 in /usr/local/lib/python3.10/dist-packages (from gradio) (2.0.3)\n",
            "Requirement already satisfied: pillow<11.0,>=8.0 in /usr/local/lib/python3.10/dist-packages (from gradio) (9.4.0)\n",
            "Requirement already satisfied: pydantic>=2.0 in /usr/local/lib/python3.10/dist-packages (from gradio) (2.8.2)\n",
            "Collecting pydub (from gradio)\n",
            "  Downloading pydub-0.25.1-py2.py3-none-any.whl (32 kB)\n",
            "Collecting python-multipart>=0.0.9 (from gradio)\n",
            "  Downloading python_multipart-0.0.9-py3-none-any.whl (22 kB)\n",
            "Requirement already satisfied: pyyaml<7.0,>=5.0 in /usr/local/lib/python3.10/dist-packages (from gradio) (6.0.1)\n",
            "Collecting ruff>=0.2.2 (from gradio)\n",
            "  Downloading ruff-0.5.4-py3-none-manylinux_2_17_x86_64.manylinux2014_x86_64.whl (10.1 MB)\n",
            "\u001b[2K     \u001b[90m━━━━━━━━━━━━━━━━━━━━━━━━━━━━━━━━━━━━━━━━\u001b[0m \u001b[32m10.1/10.1 MB\u001b[0m \u001b[31m46.6 MB/s\u001b[0m eta \u001b[36m0:00:00\u001b[0m\n",
            "\u001b[?25hCollecting semantic-version~=2.0 (from gradio)\n",
            "  Downloading semantic_version-2.10.0-py2.py3-none-any.whl (15 kB)\n",
            "Collecting tomlkit==0.12.0 (from gradio)\n",
            "  Downloading tomlkit-0.12.0-py3-none-any.whl (37 kB)\n",
            "Requirement already satisfied: typer<1.0,>=0.12 in /usr/local/lib/python3.10/dist-packages (from gradio) (0.12.3)\n",
            "Requirement already satisfied: typing-extensions~=4.0 in /usr/local/lib/python3.10/dist-packages (from gradio) (4.12.2)\n",
            "Requirement already satisfied: urllib3~=2.0 in /usr/local/lib/python3.10/dist-packages (from gradio) (2.0.7)\n",
            "Collecting uvicorn>=0.14.0 (from gradio)\n",
            "  Downloading uvicorn-0.30.3-py3-none-any.whl (62 kB)\n",
            "\u001b[2K     \u001b[90m━━━━━━━━━━━━━━━━━━━━━━━━━━━━━━━━━━━━━━━━\u001b[0m \u001b[32m62.8/62.8 kB\u001b[0m \u001b[31m8.9 MB/s\u001b[0m eta \u001b[36m0:00:00\u001b[0m\n",
            "\u001b[?25hRequirement already satisfied: fsspec in /usr/local/lib/python3.10/dist-packages (from gradio-client==1.1.1->gradio) (2023.6.0)\n",
            "Collecting websockets<12.0,>=10.0 (from gradio-client==1.1.1->gradio)\n",
            "  Downloading websockets-11.0.3-cp310-cp310-manylinux_2_5_x86_64.manylinux1_x86_64.manylinux_2_17_x86_64.manylinux2014_x86_64.whl (129 kB)\n",
            "\u001b[2K     \u001b[90m━━━━━━━━━━━━━━━━━━━━━━━━━━━━━━━━━━━━━━━━\u001b[0m \u001b[32m129.9/129.9 kB\u001b[0m \u001b[31m19.4 MB/s\u001b[0m eta \u001b[36m0:00:00\u001b[0m\n",
            "\u001b[?25hRequirement already satisfied: idna>=2.8 in /usr/local/lib/python3.10/dist-packages (from anyio<5.0,>=3.0->gradio) (3.7)\n",
            "Requirement already satisfied: sniffio>=1.1 in /usr/local/lib/python3.10/dist-packages (from anyio<5.0,>=3.0->gradio) (1.3.1)\n",
            "Requirement already satisfied: exceptiongroup in /usr/local/lib/python3.10/dist-packages (from anyio<5.0,>=3.0->gradio) (1.2.2)\n",
            "Requirement already satisfied: certifi in /usr/local/lib/python3.10/dist-packages (from httpx>=0.24.1->gradio) (2024.7.4)\n",
            "Collecting httpcore==1.* (from httpx>=0.24.1->gradio)\n",
            "  Downloading httpcore-1.0.5-py3-none-any.whl (77 kB)\n",
            "\u001b[2K     \u001b[90m━━━━━━━━━━━━━━━━━━━━━━━━━━━━━━━━━━━━━━━━\u001b[0m \u001b[32m77.9/77.9 kB\u001b[0m \u001b[31m11.8 MB/s\u001b[0m eta \u001b[36m0:00:00\u001b[0m\n",
            "\u001b[?25hCollecting h11<0.15,>=0.13 (from httpcore==1.*->httpx>=0.24.1->gradio)\n",
            "  Downloading h11-0.14.0-py3-none-any.whl (58 kB)\n",
            "\u001b[2K     \u001b[90m━━━━━━━━━━━━━━━━━━━━━━━━━━━━━━━━━━━━━━━━\u001b[0m \u001b[32m58.3/58.3 kB\u001b[0m \u001b[31m8.7 MB/s\u001b[0m eta \u001b[36m0:00:00\u001b[0m\n",
            "\u001b[?25hRequirement already satisfied: filelock in /usr/local/lib/python3.10/dist-packages (from huggingface-hub>=0.19.3->gradio) (3.15.4)\n",
            "Requirement already satisfied: requests in /usr/local/lib/python3.10/dist-packages (from huggingface-hub>=0.19.3->gradio) (2.31.0)\n",
            "Requirement already satisfied: tqdm>=4.42.1 in /usr/local/lib/python3.10/dist-packages (from huggingface-hub>=0.19.3->gradio) (4.66.4)\n",
            "Requirement already satisfied: contourpy>=1.0.1 in /usr/local/lib/python3.10/dist-packages (from matplotlib~=3.0->gradio) (1.2.1)\n",
            "Requirement already satisfied: cycler>=0.10 in /usr/local/lib/python3.10/dist-packages (from matplotlib~=3.0->gradio) (0.12.1)\n",
            "Requirement already satisfied: fonttools>=4.22.0 in /usr/local/lib/python3.10/dist-packages (from matplotlib~=3.0->gradio) (4.53.1)\n",
            "Requirement already satisfied: kiwisolver>=1.0.1 in /usr/local/lib/python3.10/dist-packages (from matplotlib~=3.0->gradio) (1.4.5)\n",
            "Requirement already satisfied: pyparsing>=2.3.1 in /usr/local/lib/python3.10/dist-packages (from matplotlib~=3.0->gradio) (3.1.2)\n",
            "Requirement already satisfied: python-dateutil>=2.7 in /usr/local/lib/python3.10/dist-packages (from matplotlib~=3.0->gradio) (2.8.2)\n",
            "Requirement already satisfied: pytz>=2020.1 in /usr/local/lib/python3.10/dist-packages (from pandas<3.0,>=1.0->gradio) (2023.4)\n",
            "Requirement already satisfied: tzdata>=2022.1 in /usr/local/lib/python3.10/dist-packages (from pandas<3.0,>=1.0->gradio) (2024.1)\n",
            "Requirement already satisfied: annotated-types>=0.4.0 in /usr/local/lib/python3.10/dist-packages (from pydantic>=2.0->gradio) (0.7.0)\n",
            "Requirement already satisfied: pydantic-core==2.20.1 in /usr/local/lib/python3.10/dist-packages (from pydantic>=2.0->gradio) (2.20.1)\n",
            "Requirement already satisfied: click>=8.0.0 in /usr/local/lib/python3.10/dist-packages (from typer<1.0,>=0.12->gradio) (8.1.7)\n",
            "Requirement already satisfied: shellingham>=1.3.0 in /usr/local/lib/python3.10/dist-packages (from typer<1.0,>=0.12->gradio) (1.5.4)\n",
            "Requirement already satisfied: rich>=10.11.0 in /usr/local/lib/python3.10/dist-packages (from typer<1.0,>=0.12->gradio) (13.7.1)\n",
            "Collecting starlette<0.38.0,>=0.37.2 (from fastapi->gradio)\n",
            "  Downloading starlette-0.37.2-py3-none-any.whl (71 kB)\n",
            "\u001b[2K     \u001b[90m━━━━━━━━━━━━━━━━━━━━━━━━━━━━━━━━━━━━━━━━\u001b[0m \u001b[32m71.9/71.9 kB\u001b[0m \u001b[31m10.7 MB/s\u001b[0m eta \u001b[36m0:00:00\u001b[0m\n",
            "\u001b[?25hCollecting fastapi-cli>=0.0.2 (from fastapi->gradio)\n",
            "  Downloading fastapi_cli-0.0.4-py3-none-any.whl (9.5 kB)\n",
            "Collecting email_validator>=2.0.0 (from fastapi->gradio)\n",
            "  Downloading email_validator-2.2.0-py3-none-any.whl (33 kB)\n",
            "Collecting dnspython>=2.0.0 (from email_validator>=2.0.0->fastapi->gradio)\n",
            "  Downloading dnspython-2.6.1-py3-none-any.whl (307 kB)\n",
            "\u001b[2K     \u001b[90m━━━━━━━━━━━━━━━━━━━━━━━━━━━━━━━━━━━━━━━━\u001b[0m \u001b[32m307.7/307.7 kB\u001b[0m \u001b[31m32.1 MB/s\u001b[0m eta \u001b[36m0:00:00\u001b[0m\n",
            "\u001b[?25hRequirement already satisfied: six>=1.5 in /usr/local/lib/python3.10/dist-packages (from python-dateutil>=2.7->matplotlib~=3.0->gradio) (1.16.0)\n",
            "Requirement already satisfied: markdown-it-py>=2.2.0 in /usr/local/lib/python3.10/dist-packages (from rich>=10.11.0->typer<1.0,>=0.12->gradio) (3.0.0)\n",
            "Requirement already satisfied: pygments<3.0.0,>=2.13.0 in /usr/local/lib/python3.10/dist-packages (from rich>=10.11.0->typer<1.0,>=0.12->gradio) (2.16.1)\n",
            "Collecting httptools>=0.5.0 (from uvicorn>=0.14.0->gradio)\n",
            "  Downloading httptools-0.6.1-cp310-cp310-manylinux_2_5_x86_64.manylinux1_x86_64.manylinux_2_17_x86_64.manylinux2014_x86_64.whl (341 kB)\n",
            "\u001b[2K     \u001b[90m━━━━━━━━━━━━━━━━━━━━━━━━━━━━━━━━━━━━━━━━\u001b[0m \u001b[32m341.4/341.4 kB\u001b[0m \u001b[31m36.9 MB/s\u001b[0m eta \u001b[36m0:00:00\u001b[0m\n",
            "\u001b[?25hCollecting python-dotenv>=0.13 (from uvicorn>=0.14.0->gradio)\n",
            "  Downloading python_dotenv-1.0.1-py3-none-any.whl (19 kB)\n",
            "Collecting uvloop!=0.15.0,!=0.15.1,>=0.14.0 (from uvicorn>=0.14.0->gradio)\n",
            "  Downloading uvloop-0.19.0-cp310-cp310-manylinux_2_17_x86_64.manylinux2014_x86_64.whl (3.4 MB)\n",
            "\u001b[2K     \u001b[90m━━━━━━━━━━━━━━━━━━━━━━━━━━━━━━━━━━━━━━━━\u001b[0m \u001b[32m3.4/3.4 MB\u001b[0m \u001b[31m51.3 MB/s\u001b[0m eta \u001b[36m0:00:00\u001b[0m\n",
            "\u001b[?25hCollecting watchfiles>=0.13 (from uvicorn>=0.14.0->gradio)\n",
            "  Downloading watchfiles-0.22.0-cp310-cp310-manylinux_2_17_x86_64.manylinux2014_x86_64.whl (1.2 MB)\n",
            "\u001b[2K     \u001b[90m━━━━━━━━━━━━━━━━━━━━━━━━━━━━━━━━━━━━━━━━\u001b[0m \u001b[32m1.2/1.2 MB\u001b[0m \u001b[31m50.0 MB/s\u001b[0m eta \u001b[36m0:00:00\u001b[0m\n",
            "\u001b[?25hRequirement already satisfied: charset-normalizer<4,>=2 in /usr/local/lib/python3.10/dist-packages (from requests->huggingface-hub>=0.19.3->gradio) (3.3.2)\n",
            "Requirement already satisfied: mdurl~=0.1 in /usr/local/lib/python3.10/dist-packages (from markdown-it-py>=2.2.0->rich>=10.11.0->typer<1.0,>=0.12->gradio) (0.1.2)\n",
            "Building wheels for collected packages: ffmpy\n",
            "  Building wheel for ffmpy (setup.py) ... \u001b[?25l\u001b[?25hdone\n",
            "  Created wheel for ffmpy: filename=ffmpy-0.3.2-py3-none-any.whl size=5584 sha256=2e150a36cad115d82095bf17f55d135ebe8c17cfdf65ca769f5e736c7be677ac\n",
            "  Stored in directory: /root/.cache/pip/wheels/bd/65/9a/671fc6dcde07d4418df0c592f8df512b26d7a0029c2a23dd81\n",
            "Successfully built ffmpy\n",
            "Installing collected packages: pydub, ffmpy, websockets, uvloop, tomlkit, semantic-version, ruff, python-multipart, python-dotenv, orjson, httptools, h11, dnspython, aiofiles, watchfiles, uvicorn, starlette, httpcore, email_validator, httpx, gradio-client, fastapi-cli, fastapi, gradio\n",
            "Successfully installed aiofiles-23.2.1 dnspython-2.6.1 email_validator-2.2.0 fastapi-0.111.1 fastapi-cli-0.0.4 ffmpy-0.3.2 gradio-4.39.0 gradio-client-1.1.1 h11-0.14.0 httpcore-1.0.5 httptools-0.6.1 httpx-0.27.0 orjson-3.10.6 pydub-0.25.1 python-dotenv-1.0.1 python-multipart-0.0.9 ruff-0.5.4 semantic-version-2.10.0 starlette-0.37.2 tomlkit-0.12.0 uvicorn-0.30.3 uvloop-0.19.0 watchfiles-0.22.0 websockets-11.0.3\n"
          ]
        }
      ],
      "source": [
        "!pip install gradio"
      ]
    },
    {
      "cell_type": "code",
      "execution_count": null,
      "metadata": {
        "id": "6BFHQVfCPq01"
      },
      "outputs": [],
      "source": [
        "import gradio as gr"
      ]
    },
    {
      "cell_type": "code",
      "execution_count": null,
      "metadata": {
        "id": "vcXImjtg5ADF"
      },
      "outputs": [],
      "source": []
    }
  ],
  "metadata": {
    "colab": {
      "provenance": []
    },
    "kernelspec": {
      "display_name": "Python 3",
      "name": "python3"
    },
    "language_info": {
      "codemirror_mode": {
        "name": "ipython",
        "version": 3
      },
      "file_extension": ".py",
      "mimetype": "text/x-python",
      "name": "python",
      "nbconvert_exporter": "python",
      "pygments_lexer": "ipython3",
      "version": "3.11.2"
    }
  },
  "nbformat": 4,
  "nbformat_minor": 0
}
